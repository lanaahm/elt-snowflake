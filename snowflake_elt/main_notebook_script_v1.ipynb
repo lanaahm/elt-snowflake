{
 "cells": [
  {
   "cell_type": "code",
   "execution_count": 1,
   "metadata": {},
   "outputs": [],
   "source": [
    "import os\n",
    "import pandas as pd\n",
    "from snowflake.snowpark import Session\n",
    "from dotenv import load_dotenv\n",
    "\n",
    "\n",
    "from config import ddl_statements, source_data, warehouse_tables\n",
    "\n",
    "# Load environment variables from .env file\n",
    "load_dotenv('.env-dev')\n",
    "\n",
    "# Retrieve environment variables\n",
    "SNOWFLAKE_ACCOUNT = os.getenv('SNOWFLAKE_ACCOUNT')\n",
    "SNOWFLAKE_USER = os.getenv('SNOWFLAKE_USER')\n",
    "SNOWFLAKE_PASSWORD = os.getenv('SNOWFLAKE_PASSWORD')\n",
    "SNOWFLAKE_ROLE = os.getenv('SNOWFLAKE_ROLE')\n",
    "SNOWFLAKE_WAREHOUSE = os.getenv('SNOWFLAKE_WAREHOUSE')\n",
    "SNOWFLAKE_DATABASE = os.getenv('SNOWFLAKE_DATABASE')\n",
    "SNOWFLAKE_SCHEMA = os.getenv('SNOWFLAKE_SCHEMA')"
   ]
  },
  {
   "cell_type": "code",
   "execution_count": 2,
   "metadata": {},
   "outputs": [],
   "source": [
    "def create_tables(session):\n",
    "    \"\"\"Create tables in the data warehouse if they do not exist.\"\"\"\n",
    "    try:\n",
    "        # Specify the database and schema\n",
    "        session.sql(\"USE WAREHOUSE COMPUTE_WH\").collect()\n",
    "        session.sql(\"USE DATABASE DWH_PROJECT02\").collect()\n",
    "        session.sql(\"USE SCHEMA PUBLIC\").collect()\n",
    "\n",
    "        for table, ddl in ddl_statements.items():\n",
    "            session.sql(ddl).collect()\n",
    "            print(f\"Table {table} created successfully\")\n",
    "    except Exception as e:\n",
    "        print(f\"Error creating tables: {e}\")\n",
    "\n",
    "def extract_data(table_name):\n",
    "    \"\"\"Extract data from a table in the OLTP database.\"\"\"\n",
    "    if table_name == 'territories':\n",
    "        df = pd.read_csv(f\"{source_data[table_name]}\", dtype={'territoryID': 'str'})\n",
    "    else:\n",
    "        df = pd.read_csv(f\"{source_data[table_name]}\")\n",
    "    print(f'Extract Data {source_data[table_name]} Success')\n",
    "    return df\n",
    "\n",
    "def get_unique_key(table_name):\n",
    "    \"\"\"Retrieve the unique key of the table.\"\"\"\n",
    "    unique_keys = {\n",
    "        'dim_regions': 'regionID',\n",
    "        'dim_territories': 'territoryID',\n",
    "        'dim_suppliers': 'supplierID',\n",
    "        'dim_shippers': 'shipperID',\n",
    "        'dim_categories': 'categoryID',\n",
    "        'dim_products': 'productID',\n",
    "        'dim_customers': 'customerID',\n",
    "        'dim_employees': 'employeeID',\n",
    "        'fact_orders': 'orderID',\n",
    "        'fact_order_details': ['orderID', 'productID', 'unitPrice', 'quantity', 'discount'],\n",
    "        'fact_employee_territories': ['employeeID', 'territoryID']\n",
    "    }\n",
    "    if table_name in unique_keys:\n",
    "        return unique_keys[table_name]\n",
    "    else:\n",
    "        raise ValueError(\"Table name not recognized.\")\n",
    "\n",
    "def remove_duplicate_data(new_data, existing_data, unique_key):\n",
    "    \"\"\"Remove duplicates from new data based on existing data.\"\"\"\n",
    "    if isinstance(unique_key, list):\n",
    "        unique_values = set(map(tuple, existing_data[unique_key].values))\n",
    "        return new_data[~new_data.apply(lambda row: tuple(row[unique_key]) in unique_values, axis=1)]\n",
    "    else:\n",
    "        unique_values = set(existing_data[unique_key])\n",
    "        return new_data[~new_data[unique_key].isin(unique_values)]\n",
    "    \n",
    "def load_data(session, df, table_name):\n",
    "    \"\"\"Load the transformed data into the target table in the data warehouse.\"\"\"\n",
    "    try:\n",
    "        df_load = session.table(table_name).to_pandas()\n",
    "        unique_key = get_unique_key(table_name)\n",
    "\n",
    "        df = remove_duplicate_data(df, df_load, unique_key)\n",
    "        \n",
    "        df = session.create_dataframe(df)\n",
    "        df.write.mode(\"append\").save_as_table(table_name)\n",
    "        print(f'Load Data {table_name} Success')\n",
    "    except Exception as e:\n",
    "        print(f\"Error loading data into {table_name}: {e}\")"
   ]
  },
  {
   "cell_type": "code",
   "execution_count": 3,
   "metadata": {},
   "outputs": [],
   "source": [
    "def main():\n",
    "    try:\n",
    "        # Create a Snowflake session\n",
    "        session = Session.builder.configs(SNOWFLAKE_CONFIG).create()\n",
    "        create_tables(session)\n",
    "        \n",
    "        for source_name, target_name in warehouse_tables.items():\n",
    "            source_data = extract_data(source_name)\n",
    "            load_data(session, source_data, target_name)\n",
    "    finally:\n",
    "        session.close()"
   ]
  },
  {
   "cell_type": "code",
   "execution_count": 14,
   "metadata": {},
   "outputs": [
    {
     "name": "stdout",
     "output_type": "stream",
     "text": [
      "Table dim_regions created successfully\n",
      "Table dim_territories created successfully\n",
      "Table dim_suppliers created successfully\n",
      "Table dim_shippers created successfully\n",
      "Table dim_categories created successfully\n",
      "Table dim_products created successfully\n",
      "Table dim_customers created successfully\n",
      "Table dim_employees created successfully\n",
      "Table fact_orders created successfully\n",
      "Table fact_order_details created successfully\n",
      "Table fact_employee_territories created successfully\n",
      "Extract Data https://raw.githubusercontent.com/graphql-compose/graphql-compose-examples/master/examples/northwind/data/csv/regions.csv Success\n"
     ]
    },
    {
     "name": "stderr",
     "output_type": "stream",
     "text": [
      "/Users/maulana/miniconda3/envs/rnd/lib/python3.9/site-packages/snowflake/snowpark/session.py:2367: UserWarning: Pandas Dataframe has non-standard index of type <class 'pandas.core.indexes.numeric.Int64Index'> which will not be written. Consider changing the index to pd.RangeIndex(start=0,...,step=1) or call reset_index() to keep index as column(s)\n",
      "  success, _, _, ci_output = write_pandas(\n"
     ]
    },
    {
     "name": "stdout",
     "output_type": "stream",
     "text": [
      "Load Data dim_regions Success\n",
      "Extract Data https://raw.githubusercontent.com/graphql-compose/graphql-compose-examples/master/examples/northwind/data/csv/territories.csv Success\n"
     ]
    },
    {
     "name": "stderr",
     "output_type": "stream",
     "text": [
      "/Users/maulana/miniconda3/envs/rnd/lib/python3.9/site-packages/snowflake/snowpark/session.py:2367: UserWarning: Pandas Dataframe has non-standard index of type <class 'pandas.core.indexes.numeric.Int64Index'> which will not be written. Consider changing the index to pd.RangeIndex(start=0,...,step=1) or call reset_index() to keep index as column(s)\n",
      "  success, _, _, ci_output = write_pandas(\n"
     ]
    },
    {
     "name": "stdout",
     "output_type": "stream",
     "text": [
      "Load Data dim_territories Success\n",
      "Extract Data https://raw.githubusercontent.com/graphql-compose/graphql-compose-examples/master/examples/northwind/data/csv/suppliers.csv Success\n"
     ]
    },
    {
     "name": "stderr",
     "output_type": "stream",
     "text": [
      "/Users/maulana/miniconda3/envs/rnd/lib/python3.9/site-packages/snowflake/snowpark/session.py:2367: UserWarning: Pandas Dataframe has non-standard index of type <class 'pandas.core.indexes.numeric.Int64Index'> which will not be written. Consider changing the index to pd.RangeIndex(start=0,...,step=1) or call reset_index() to keep index as column(s)\n",
      "  success, _, _, ci_output = write_pandas(\n"
     ]
    },
    {
     "name": "stdout",
     "output_type": "stream",
     "text": [
      "Load Data dim_suppliers Success\n",
      "Extract Data https://raw.githubusercontent.com/graphql-compose/graphql-compose-examples/master/examples/northwind/data/csv/shippers.csv Success\n"
     ]
    },
    {
     "name": "stderr",
     "output_type": "stream",
     "text": [
      "/Users/maulana/miniconda3/envs/rnd/lib/python3.9/site-packages/snowflake/snowpark/session.py:2367: UserWarning: Pandas Dataframe has non-standard index of type <class 'pandas.core.indexes.numeric.Int64Index'> which will not be written. Consider changing the index to pd.RangeIndex(start=0,...,step=1) or call reset_index() to keep index as column(s)\n",
      "  success, _, _, ci_output = write_pandas(\n"
     ]
    },
    {
     "name": "stdout",
     "output_type": "stream",
     "text": [
      "Load Data dim_shippers Success\n",
      "Extract Data https://raw.githubusercontent.com/graphql-compose/graphql-compose-examples/master/examples/northwind/data/csv/categories.csv Success\n"
     ]
    },
    {
     "name": "stderr",
     "output_type": "stream",
     "text": [
      "/Users/maulana/miniconda3/envs/rnd/lib/python3.9/site-packages/snowflake/snowpark/session.py:2367: UserWarning: Pandas Dataframe has non-standard index of type <class 'pandas.core.indexes.numeric.Int64Index'> which will not be written. Consider changing the index to pd.RangeIndex(start=0,...,step=1) or call reset_index() to keep index as column(s)\n",
      "  success, _, _, ci_output = write_pandas(\n"
     ]
    },
    {
     "name": "stdout",
     "output_type": "stream",
     "text": [
      "Load Data dim_categories Success\n",
      "Extract Data https://raw.githubusercontent.com/graphql-compose/graphql-compose-examples/master/examples/northwind/data/csv/products.csv Success\n"
     ]
    },
    {
     "name": "stderr",
     "output_type": "stream",
     "text": [
      "/Users/maulana/miniconda3/envs/rnd/lib/python3.9/site-packages/snowflake/snowpark/session.py:2367: UserWarning: Pandas Dataframe has non-standard index of type <class 'pandas.core.indexes.numeric.Int64Index'> which will not be written. Consider changing the index to pd.RangeIndex(start=0,...,step=1) or call reset_index() to keep index as column(s)\n",
      "  success, _, _, ci_output = write_pandas(\n"
     ]
    },
    {
     "name": "stdout",
     "output_type": "stream",
     "text": [
      "Load Data dim_products Success\n",
      "Extract Data https://raw.githubusercontent.com/graphql-compose/graphql-compose-examples/master/examples/northwind/data/csv/customers.csv Success\n"
     ]
    },
    {
     "name": "stderr",
     "output_type": "stream",
     "text": [
      "/Users/maulana/miniconda3/envs/rnd/lib/python3.9/site-packages/snowflake/snowpark/session.py:2367: UserWarning: Pandas Dataframe has non-standard index of type <class 'pandas.core.indexes.numeric.Int64Index'> which will not be written. Consider changing the index to pd.RangeIndex(start=0,...,step=1) or call reset_index() to keep index as column(s)\n",
      "  success, _, _, ci_output = write_pandas(\n"
     ]
    },
    {
     "name": "stdout",
     "output_type": "stream",
     "text": [
      "Load Data dim_customers Success\n",
      "Extract Data https://raw.githubusercontent.com/graphql-compose/graphql-compose-examples/master/examples/northwind/data/csv/employees.csv Success\n"
     ]
    },
    {
     "name": "stderr",
     "output_type": "stream",
     "text": [
      "/Users/maulana/miniconda3/envs/rnd/lib/python3.9/site-packages/snowflake/snowpark/session.py:2367: UserWarning: Pandas Dataframe has non-standard index of type <class 'pandas.core.indexes.numeric.Int64Index'> which will not be written. Consider changing the index to pd.RangeIndex(start=0,...,step=1) or call reset_index() to keep index as column(s)\n",
      "  success, _, _, ci_output = write_pandas(\n"
     ]
    },
    {
     "name": "stdout",
     "output_type": "stream",
     "text": [
      "Load Data dim_employees Success\n",
      "Extract Data https://raw.githubusercontent.com/graphql-compose/graphql-compose-examples/master/examples/northwind/data/csv/orders.csv Success\n"
     ]
    },
    {
     "name": "stderr",
     "output_type": "stream",
     "text": [
      "/Users/maulana/miniconda3/envs/rnd/lib/python3.9/site-packages/snowflake/snowpark/session.py:2367: UserWarning: Pandas Dataframe has non-standard index of type <class 'pandas.core.indexes.numeric.Int64Index'> which will not be written. Consider changing the index to pd.RangeIndex(start=0,...,step=1) or call reset_index() to keep index as column(s)\n",
      "  success, _, _, ci_output = write_pandas(\n"
     ]
    },
    {
     "name": "stdout",
     "output_type": "stream",
     "text": [
      "Load Data fact_orders Success\n",
      "Extract Data https://raw.githubusercontent.com/graphql-compose/graphql-compose-examples/master/examples/northwind/data/csv/order_details.csv Success\n"
     ]
    },
    {
     "name": "stderr",
     "output_type": "stream",
     "text": [
      "/Users/maulana/miniconda3/envs/rnd/lib/python3.9/site-packages/snowflake/snowpark/session.py:2367: UserWarning: Pandas Dataframe has non-standard index of type <class 'pandas.core.indexes.numeric.Int64Index'> which will not be written. Consider changing the index to pd.RangeIndex(start=0,...,step=1) or call reset_index() to keep index as column(s)\n",
      "  success, _, _, ci_output = write_pandas(\n"
     ]
    },
    {
     "name": "stdout",
     "output_type": "stream",
     "text": [
      "Load Data fact_order_details Success\n",
      "Extract Data https://raw.githubusercontent.com/graphql-compose/graphql-compose-examples/master/examples/northwind/data/csv/employee_territories.csv Success\n"
     ]
    },
    {
     "name": "stderr",
     "output_type": "stream",
     "text": [
      "/Users/maulana/miniconda3/envs/rnd/lib/python3.9/site-packages/snowflake/snowpark/session.py:2367: UserWarning: Pandas Dataframe has non-standard index of type <class 'pandas.core.indexes.numeric.Int64Index'> which will not be written. Consider changing the index to pd.RangeIndex(start=0,...,step=1) or call reset_index() to keep index as column(s)\n",
      "  success, _, _, ci_output = write_pandas(\n"
     ]
    },
    {
     "name": "stdout",
     "output_type": "stream",
     "text": [
      "Load Data fact_employee_territories Success\n"
     ]
    }
   ],
   "source": [
    "main()"
   ]
  },
  {
   "cell_type": "code",
   "execution_count": null,
   "metadata": {},
   "outputs": [],
   "source": [
    "session = Session.builder.configs(\n",
    "              account=SNOWFLAKE_ACCOUNT,\n",
    "              user=SNOWFLAKE_USER,\n",
    "              password=SNOWFLAKE_PASSWORD,\n",
    "              role=SNOWFLAKE_ROLE,\n",
    "              warehouse=SNOWFLAKE_WAREHOUSE,\n",
    "              database=SNOWFLAKE_DATABASE,\n",
    "              schema=SNOWFLAKE_SCHEMA).create()\n",
    "\n",
    "create_tables(session)"
   ]
  }
 ],
 "metadata": {
  "kernelspec": {
   "display_name": "Python 3 (ipykernel)",
   "language": "python",
   "name": "python3"
  },
  "language_info": {
   "codemirror_mode": {
    "name": "ipython",
    "version": 3
   },
   "file_extension": ".py",
   "mimetype": "text/x-python",
   "name": "python",
   "nbconvert_exporter": "python",
   "pygments_lexer": "ipython3",
   "version": "3.9.0"
  }
 },
 "nbformat": 4,
 "nbformat_minor": 4
}
